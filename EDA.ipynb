{
 "cells": [
  {
   "cell_type": "markdown",
   "metadata": {},
   "source": [
    "## Exploratory Data Analysis\n",
    "\n",
    "__Agricultural total factor productivity (USDA)__ Available at: https://github.com/owid/owid-datasets/blob/master/datasets/Agricultural%20total%20factor%20productivity%20(USDA)/Agricultural%20total%20factor%20productivity%20(USDA).csv"
   ]
  },
  {
   "cell_type": "code",
   "execution_count": null,
   "metadata": {},
   "outputs": [],
   "source": [
    "import pandas as pd"
   ]
  },
  {
   "cell_type": "code",
   "execution_count": null,
   "metadata": {},
   "outputs": [],
   "source": [
    "# TO BE CHANGED TO READ AFTER FILE IS ON GITLAB\n",
    "\n",
    "dataset = pd.read_csv(\"downloads/Agricultural total factor productivity (USDA).csv\")"
   ]
  },
  {
   "cell_type": "code",
   "execution_count": null,
   "metadata": {},
   "outputs": [],
   "source": [
    "dataset"
   ]
  },
  {
   "cell_type": "markdown",
   "metadata": {},
   "source": [
    "__Entity  :__ Country\n",
    "\n",
    "__Year  :__ Year of recorded data\n",
    "\n",
    "__tfp  :__\n",
    "\n",
    "__output  :__ \n",
    "\n",
    "__inputs  :__\n",
    "\n",
    "__ag_land_index  :__\n",
    "\n",
    "__labor_index  :__\n",
    "\n",
    "__capital_index  :__\n",
    "\n",
    "__materials_index  :__\n",
    "\n",
    "__output_quantity  :__ Total amount of agriculture goods produced\n",
    "\n",
    "__crop_output_quantity  :__ Total amount of crop production\n",
    "\n",
    "__animal_output_quantity  :__ Total amount of animal production\n",
    "\n",
    "__fish_output_quantity  :__ Total amount of fishing production\n",
    "\n",
    "__ag_land_quantity  :__ Total amount of land avilable for production\n",
    "\n",
    "__labor_quantity  :__ Total amount of labor available for production\n",
    "\n",
    "__capital_quantity  :__ \n",
    "\n",
    "__machinery_quantity  :__ Total amount of machinery available in agroindustry\n",
    "\n",
    "__livestock_quantity  :__ Amount of inventory available for storing goods\n",
    "\n",
    "__fertilizer_quantity  :__ Total amount of fertilizer used in the production\n",
    "\n",
    "__animal_feed_quantity  :__ Total amount of food used in agropecuary\n",
    "\n",
    "__cropland_quantity  :__ Amount of reseorces dedicated to crop\n",
    "\n",
    "__pasture_quantity  :__ Amaount of resources dedicated to pasture\n",
    "\n",
    "__irrigation_quantit  :__ Amount of resources dedicated to irrigation\n"
   ]
  },
  {
   "cell_type": "code",
   "execution_count": null,
   "metadata": {},
   "outputs": [],
   "source": [
    "info = dataset.info()\n",
    "info"
   ]
  },
  {
   "cell_type": "code",
   "execution_count": null,
   "metadata": {},
   "outputs": [],
   "source": [
    "descriptive_stats = dataset.describe()\n",
    "descriptive_stats"
   ]
  },
  {
   "cell_type": "code",
   "execution_count": null,
   "metadata": {},
   "outputs": [],
   "source": [
    "# calculate how many entries are 0 and calculate the percentage of the null values in each variable\n",
    "y = dataset.isnull().sum()\n",
    "y.sort_values(ascending=False)\n",
    "z = len(dataset.Entity)\n",
    "pnull = y/z\n",
    "#count unique values in each variable\n",
    "uni_val = dataset.nunique()\n",
    "types = dataset.dtypes\n",
    "#combine the information in a DF for each variable\n",
    "variables = pd.DataFrame({'types': types, 'perc_null' :pnull, 'uni_val' : uni_val,}).reset_index().sort_values(by = 'perc_null', ascending=False)\n",
    "\n",
    "variables"
   ]
  },
  {
   "cell_type": "code",
   "execution_count": null,
   "metadata": {},
   "outputs": [],
   "source": [
    "from correlation_plot import Agros"
   ]
  },
  {
   "cell_type": "code",
   "execution_count": null,
   "metadata": {},
   "outputs": [],
   "source": [
    "data = Agros()"
   ]
  },
  {
   "cell_type": "code",
   "execution_count": null,
   "metadata": {},
   "outputs": [],
   "source": [
    "data.compare_country_output('Afghanistan')"
   ]
  },
  {
   "cell_type": "code",
   "execution_count": null,
   "metadata": {},
   "outputs": [],
   "source": []
  }
 ],
 "metadata": {
  "kernelspec": {
   "display_name": "Python 3 (ipykernel)",
   "language": "python",
   "name": "python3"
  },
  "language_info": {
   "codemirror_mode": {
    "name": "ipython",
    "version": 3
   },
   "file_extension": ".py",
   "mimetype": "text/x-python",
   "name": "python",
   "nbconvert_exporter": "python",
   "pygments_lexer": "ipython3",
   "version": "3.9.12"
  },
  "vscode": {
   "interpreter": {
    "hash": "eb98f5c2dde37d8a67961a214b34faf352e815d37d431ceb2c7a3f0b15f97046"
   }
  }
 },
 "nbformat": 4,
 "nbformat_minor": 4
}
