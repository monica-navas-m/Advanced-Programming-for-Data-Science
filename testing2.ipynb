{
 "cells": [
  {
   "cell_type": "code",
   "execution_count": 4,
   "id": "939428b1-d1bf-4e4e-9832-0a0de2f43043",
   "metadata": {},
   "outputs": [],
   "source": [
    "from agros import Agros"
   ]
  },
  {
   "cell_type": "code",
   "execution_count": 5,
   "id": "6d5d043e-7c1d-42e0-b1c9-fea92d73ff39",
   "metadata": {},
   "outputs": [],
   "source": [
    "test2 = Agros()"
   ]
  },
  {
   "cell_type": "code",
   "execution_count": 8,
   "id": "a654a7a1-7571-45ec-9794-452e59b477c1",
   "metadata": {},
   "outputs": [
    {
     "ename": "TypeError",
     "evalue": "string indices must be integers",
     "output_type": "error",
     "traceback": [
      "\u001b[0;31m---------------------------------------------------------------------------\u001b[0m",
      "\u001b[0;31mTypeError\u001b[0m                                 Traceback (most recent call last)",
      "Input \u001b[0;32mIn [8]\u001b[0m, in \u001b[0;36m<cell line: 1>\u001b[0;34m()\u001b[0m\n\u001b[0;32m----> 1\u001b[0m \u001b[43mtest2\u001b[49m\u001b[38;5;241;43m.\u001b[39;49m\u001b[43mplot_output_by_year_for_countries\u001b[49m\u001b[43m(\u001b[49m\u001b[38;5;124;43m'\u001b[39;49m\u001b[38;5;124;43mBrazil\u001b[39;49m\u001b[38;5;124;43m'\u001b[39;49m\u001b[43m)\u001b[49m\n",
      "File \u001b[0;32m~/Documents/AdvancedProgramming/groupwork/group_10/group_10/agros.py:222\u001b[0m, in \u001b[0;36mplot_output_by_year_for_countries\u001b[0;34m(countries, df, x_col, y_col, country_col)\u001b[0m\n\u001b[1;32m    220\u001b[0m # Filter dataframe to include only selected countries\n\u001b[1;32m    221\u001b[0m df_countries = df[df[country_col].isin(countries)]\n\u001b[0;32m--> 222\u001b[0m \n\u001b[1;32m    223\u001b[0m # Group by year and sum output for each year\n\u001b[1;32m    224\u001b[0m df_yearly_output = df_countries.groupby(x_col).agg({y_col: \"sum\"})\n",
      "\u001b[0;31mTypeError\u001b[0m: string indices must be integers"
     ]
    }
   ],
   "source": [
    "test2.plot_output_by_year_for_countries('Brazil')"
   ]
  },
  {
   "cell_type": "code",
   "execution_count": null,
   "id": "1b34cce5-410e-4a4f-b995-05cfbc0c64cf",
   "metadata": {},
   "outputs": [],
   "source": []
  }
 ],
 "metadata": {
  "kernelspec": {
   "display_name": "Python 3 (ipykernel)",
   "language": "python",
   "name": "python3"
  },
  "language_info": {
   "codemirror_mode": {
    "name": "ipython",
    "version": 3
   },
   "file_extension": ".py",
   "mimetype": "text/x-python",
   "name": "python",
   "nbconvert_exporter": "python",
   "pygments_lexer": "ipython3",
   "version": "3.9.12"
  }
 },
 "nbformat": 4,
 "nbformat_minor": 5
}
